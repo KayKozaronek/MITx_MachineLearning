{
 "metadata": {
  "language_info": {
   "codemirror_mode": {
    "name": "ipython",
    "version": 3
   },
   "file_extension": ".py",
   "mimetype": "text/x-python",
   "name": "python",
   "nbconvert_exporter": "python",
   "pygments_lexer": "ipython3",
   "version": "3.6.12-final"
  },
  "orig_nbformat": 2,
  "kernelspec": {
   "name": "python3",
   "display_name": "Python 3.6.12 64-bit ('MIT_ML': conda)",
   "metadata": {
    "interpreter": {
     "hash": "76d7a642b502ef75806fe3038a8ec71655ea06da01ae50ad6d9d1aeded3d2e94"
    }
   }
  }
 },
 "nbformat": 4,
 "nbformat_minor": 2,
 "cells": [
  {
   "cell_type": "code",
   "execution_count": null,
   "metadata": {},
   "outputs": [],
   "source": [
    "import numpy as np"
   ]
  },
  {
   "cell_type": "code",
   "execution_count": null,
   "metadata": {},
   "outputs": [],
   "source": [
    "def perceptron_single_step_update(\n",
    "        feature_vector,\n",
    "        label,\n",
    "        current_theta,\n",
    "        current_theta_0):\n",
    "    if label * (np.dot(current_theta, feature_vector) + current_theta_0) <= 0:\n",
    "        current_theta += label * feature_vector\n",
    "        current_theta_0 += label\n",
    "\n",
    "    return (current_theta, current_theta_0)"
   ]
  },
  {
   "cell_type": "code",
   "execution_count": null,
   "metadata": {},
   "outputs": [],
   "source": [
    "x1 = np.array([-1,-1])\n",
    "x2 = np.array([1,0])\n",
    "x3 = np.array([-1, 1.5])"
   ]
  }
 ]
}