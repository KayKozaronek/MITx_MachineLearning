{
 "metadata": {
  "language_info": {
   "codemirror_mode": {
    "name": "ipython",
    "version": 3
   },
   "file_extension": ".py",
   "mimetype": "text/x-python",
   "name": "python",
   "nbconvert_exporter": "python",
   "pygments_lexer": "ipython3",
   "version": "3.6.12-final"
  },
  "orig_nbformat": 2,
  "kernelspec": {
   "name": "python3",
   "display_name": "Python 3.6.12 64-bit ('MIT_ML': conda)",
   "metadata": {
    "interpreter": {
     "hash": "76d7a642b502ef75806fe3038a8ec71655ea06da01ae50ad6d9d1aeded3d2e94"
    }
   }
  }
 },
 "nbformat": 4,
 "nbformat_minor": 2,
 "cells": [
  {
   "source": [
    "# 2 a)"
   ],
   "cell_type": "markdown",
   "metadata": {}
  },
  {
   "cell_type": "code",
   "execution_count": 1,
   "metadata": {},
   "outputs": [],
   "source": [
    "import numpy as np"
   ]
  },
  {
   "cell_type": "code",
   "execution_count": 2,
   "metadata": {},
   "outputs": [],
   "source": [
    "def perceptron_single_step_update(\n",
    "        feature_vector,\n",
    "        label,\n",
    "        current_theta,\n",
    "        current_theta_0):\n",
    "    if label * (np.dot(current_theta, feature_vector) + current_theta_0) <= 0:\n",
    "        current_theta += label * feature_vector\n",
    "        current_theta_0 += label\n",
    "\n",
    "    return (current_theta, current_theta_0)"
   ]
  },
  {
   "cell_type": "code",
   "execution_count": 5,
   "metadata": {},
   "outputs": [],
   "source": [
    "xs = np.array([[-4,2],[-2,1],[-1,-1],[2,2],[1,-2]])\n",
    "ys = np.array([1,1,-1,-1,-1])"
   ]
  },
  {
   "cell_type": "code",
   "execution_count": 9,
   "metadata": {},
   "outputs": [
    {
     "output_type": "stream",
     "name": "stdout",
     "text": [
      "[-4.  2.] -2\n"
     ]
    }
   ],
   "source": [
    "current_theta = np.zeros(xs.shape[1]) \n",
    "current_theta_0 = 0\n",
    "\n",
    "for i in range(10):\n",
    "    current_theta, current_theta_0 = perceptron_single_step_update(\n",
    "        xs[i%5],\n",
    "        ys[i%5],\n",
    "        current_theta,\n",
    "        current_theta_0\n",
    "    )\n",
    "print(current_theta, current_theta_0)"
   ]
  },
  {
   "source": [
    "# 2 b)"
   ],
   "cell_type": "markdown",
   "metadata": {}
  },
  {
   "cell_type": "code",
   "execution_count": 14,
   "metadata": {},
   "outputs": [
    {
     "output_type": "stream",
     "name": "stdout",
     "text": [
      "[-3  3] -2\n[-3  3] -2\n[-3  3] -2\n[-3  3] -2\n[-3  3] -2\n[-3  3] -2\n[-3  3] -2\n[-3  3] -2\n[-3  3] -2\n[-3  3] -2\n"
     ]
    }
   ],
   "source": [
    "current_theta = np.array([-3,3]) \n",
    "current_theta_0 = -2\n",
    "\n",
    "for i in range(10):\n",
    "    current_theta, current_theta_0 = perceptron_single_step_update(\n",
    "        xs[i%5],\n",
    "        ys[i%5],\n",
    "        current_theta,\n",
    "        current_theta_0\n",
    "    )\n",
    "    print(current_theta, current_theta_0)"
   ]
  },
  {
   "cell_type": "code",
   "execution_count": null,
   "metadata": {},
   "outputs": [],
   "source": []
  }
 ]
}